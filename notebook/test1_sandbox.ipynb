{
  "cells": [
    {
      "cell_type": "markdown",
      "metadata": {
        "colab_type": "text",
        "id": "view-in-github"
      },
      "source": [
        "<a href=\"https://colab.research.google.com/github/analyticsariel/projects/blob/master/BatchData_SkipTracing_MockData.ipynb\" target=\"_parent\"><img src=\"https://colab.research.google.com/assets/colab-badge.svg\" alt=\"Open In Colab\"/></a>"
      ]
    },
    {
      "cell_type": "markdown",
      "metadata": {
        "id": "BYRys7lpU-iF"
      },
      "source": [
        "# Batch Data Skip Tracing Mock Data\n",
        "\n",
        "## Overview\n",
        "| Detail Tag            | Information                                                                                        |\n",
        "|-----------------------|----------------------------------------------------------------------------------------------------|\n",
        "| Originally Created By | Ariel Herrera arielherrera@analyticsariel.com |\n",
        "| External References   | API |\n",
        "| Input Datasets        | Source name |\n",
        "| Output Datasets       | Source name |\n",
        "| Input Data Source     | Pandas DataFrame |\n",
        "| Output Data Source    | Pandas DataFrame |\n",
        "\n",
        "## History\n",
        "| Date         | Developed By  | Reason                                                |\n",
        "|--------------|---------------|-------------------------------------------------------|\n",
        "| 1st Jun 2022 | Ariel Herrera | Create notebook. |\n",
        "\n",
        "## Getting Started\n",
        "1. Copy this notebook -> File -> Save a Copy in Drive\n",
        "2. Directions\n",
        "  - Signup for BatchData\n",
        "  - Create mock api key and live api key\n",
        "\n",
        "## Useful Resources\n",
        "- [Google Colab Cheat Sheet](https://towardsdatascience.com/cheat-sheet-for-google-colab-63853778c093)\n",
        "- [BatchData API docs](https://developer.batchdata.com/docs/batchdata/a45e094c668b1-property-skip-trace)\n",
        "- [Curl Convertor](https://curlconverter.com/#)"
      ]
    },
    {
      "cell_type": "markdown",
      "metadata": {
        "id": "hKgiM1tbUnbI"
      },
      "source": [
        "## <font color=\"blue\">Install Packages</font>"
      ]
    },
    {
      "cell_type": "code",
      "execution_count": null,
      "metadata": {
        "id": "7V2OU_iGUppW"
      },
      "outputs": [],
      "source": []
    },
    {
      "cell_type": "markdown",
      "metadata": {
        "id": "-ZgrtjtLUi6a"
      },
      "source": [
        "## <font color=\"blue\">Imports</font>"
      ]
    },
    {
      "cell_type": "code",
      "execution_count": null,
      "metadata": {
        "id": "7vWKHxJDUjOJ"
      },
      "outputs": [],
      "source": [
        "\n",
        "import pandas as pd\n",
        "import requests\n",
        "import os\n",
        "import warnings\n",
        "\n",
        "pd.set_option('display.max_columns', None) # show all columns"
      ]
    },
    {
      "cell_type": "markdown",
      "metadata": {
        "id": "PkdXQZp8UqcC"
      },
      "source": [
        "## <font color=\"blue\">Functions</font>"
      ]
    },
    {
      "cell_type": "code",
      "execution_count": null,
      "metadata": {
        "id": "5p76TDONUsXe"
      },
      "outputs": [],
      "source": []
    },
    {
      "cell_type": "markdown",
      "metadata": {
        "id": "9B1YSUk9UsoZ"
      },
      "source": [
        "## <font color=\"blue\">Locals & Constants</font>"
      ]
    },
    {
      "cell_type": "code",
      "execution_count": null,
      "metadata": {
        "colab": {
          "base_uri": "https://localhost:8080/"
        },
        "id": "NG7gxupMcw7B",
        "outputId": "da51398b-8bce-4129-c356-5cfab77fceff"
      },
      "outputs": [],
      "source": [
        "drive.mount('/content/drive')"
      ]
    },
    {
      "cell_type": "code",
      "execution_count": null,
      "metadata": {
        "colab": {
          "base_uri": "https://localhost:8080/"
        },
        "id": "7-YcqpLdc3Ts",
        "outputId": "1a1c66ea-187c-470b-a780-913fc1826f67"
      },
      "outputs": [],
      "source": [
        "# set working directory\n",
        "os.chdir('/content/drive/MyDrive/Colab Data/')\n",
        "dir = os.getcwd()\n",
        "print('Current working directory:', dir)\n",
        "\n",
        "# remove pandas warnings\n",
        "warnings.filterwarnings('ignore')"
      ]
    },
    {
      "cell_type": "markdown",
      "metadata": {
        "id": "CGCaqKj1UvIo"
      },
      "source": [
        "## <font color=\"blue\">Data</font>"
      ]
    },
    {
      "cell_type": "code",
      "execution_count": null,
      "metadata": {
        "id": "8M0pHaEadieo"
      },
      "outputs": [],
      "source": [
        "# read in api keys\n",
        "df_api_keys = pd.read_csv('batchapi.csv')\n",
        "# extract api key\n",
        "batchdata_mock_api_key = df_api_keys.loc[df_api_keys['API'] == 'batchdata_mock']['KEY'].iloc[0]"
      ]
    },
    {
      "cell_type": "markdown",
      "metadata": {
        "id": "Q65HVqsFd0Zw"
      },
      "source": [
        "## <font color=\"blue\">Transformations</font>"
      ]
    },
    {
      "cell_type": "markdown",
      "metadata": {
        "id": "LPBBGUlXeYiD"
      },
      "source": [
        "### <font color=\"green\">1) Single Property - Skip Trace Search</font>"
      ]
    },
    {
      "cell_type": "code",
      "execution_count": null,
      "metadata": {},
      "outputs": [],
      "source": [
        "bt = \"3c8ZEz3xSqLIJidUzAmkfTjtwGCfFIfraDsckGPM\""
      ]
    },
    {
      "cell_type": "code",
      "execution_count": 5,
      "metadata": {
        "colab": {
          "base_uri": "https://localhost:8080/",
          "height": 178
        },
        "id": "NMsKPKcqUSMD",
        "outputId": "3c58c201-9316-44c9-e44a-5a684e8a3346"
      },
      "outputs": [
        {
          "data": {
            "text/plain": [
              "'{\"status\":{\"code\":200,\"text\":\"OK\"},\"results\":{\"persons\":[{\"_id\":\"tOdljN72SozLw\",\"bankruptcy\":{},\"dnc\":{},\"emails\":[{\"email\":\"johndoe@gmail.net\"}],\"mailingAddress\":{},\"name\":{\"first\":\"john\",\"last\":\"doe\"},\"phoneNumbers\":[{\"number\":\"111111111\",\"carrier\":\"OMNIPOINT COMMUNICATIONS- INC.\",\"type\":\"Mobile\",\"tested\":true,\"reachable\":true,\"score\":100},{\"number\":\"2222222222\",\"carrier\":\"VERIZON NEW YORK- INC.\",\"type\":\"Land Line\",\"tested\":false,\"reachable\":false,\"score\":95},{\"number\":\"333333333\",\"carrier\":\"VERIZON NEW YORK- INC.\",\"type\":\"Land Line\",\"tested\":true,\"reachable\":true,\"score\":90},{\"number\":\"444444444\",\"carrier\":\"VERIZON NEW YORK- INC.\",\"type\":\"Land Line\",\"tested\":true,\"reachable\":true,\"score\":85}],\"litigator\":false,\"propertyAddress\":{\"houseNumber\":\"1011\",\"street\":\"1011 Rosegold St\",\"city\":\"Franklin Square\",\"county\":\"Nassau\",\"state\":\"NY\",\"zip\":\"11010\",\"zipPlus4\":\"2507\",\"formattedStreet\":\"Rosegold St\",\"streetNoUnit\":\"1011 Rosegold St\",\"hash\":\"b7bd4cea51b26af459febfbf822c99e2\"},\"involuntaryLien\":{},\"property\":{\"address\":{\"houseNumber\":\"1011\",\"street\":\"1011 Rosegold St\",\"city\":\"Franklin Square\",\"county\":\"Nassau\",\"state\":\"NY\",\"zip\":\"11010\",\"zipPlus4\":\"2507\",\"hash\":\"b7bd4cea51b26af459febfbf822c99e2\",\"latitude\":40.704661,\"longitude\":-73.6776615,\"countyFipsCode\":\"36059\",\"formattedStreet\":\"Rosegold St\",\"streetNoUnit\":\"1011 Rosegold St\",\"cityAliases\":[\"franklin square\"],\"geoStatus\":\"Rooftop\"},\"equity\":210357,\"equityPercent\":35.22,\"absenteeOwner\":false,\"vacant\":false,\"uspsDeliverable\":true,\"owner\":{\"name\":{\"first\":\"john\",\"last\":\"doe\"},\"mailingAddress\":{\"houseNumber\":\"1011\",\"street\":\"1011 Rosegold St\",\"city\":\"Franklin Square\",\"county\":\"Nassau\",\"state\":\"NY\",\"zip\":\"11010\",\"formattedStreet\":\"Rosegold St\",\"streetNoUnit\":\"1011 Rosegold St\",\"hash\":\"b7bd4cea51b26af459febfbf822c99e2\",\"zipPlus4\":\"2507\"}}},\"meta\":{\"matched\":true,\"error\":false}}],\"meta\":{\"apiVersion\":\"2.28.0\",\"performance\":{\"totalRequestTime\":1460,\"startTime\":\"2022-12-30T11:58:24.469Z\",\"endTime\":\"2022-12-30T11:58:25.930Z\"},\"results\":{\"requestCount\":1,\"matchCount\":1,\"noMatchCount\":0,\"errorCount\":0},\"requestId\":\"NbL5WXZMuBOCW1s\"}}}'"
            ]
          },
          "execution_count": 5,
          "metadata": {},
          "output_type": "execute_result"
        }
      ],
      "source": [
        "url = 'https://stoplight.io/mocks/batchdata/batchdata/20349728/property/skip-trace'\n",
        "\n",
        "json_data =  {\n",
        "  \"requests\": [\n",
        "    {\n",
        "      \"propertyAddress\": {\n",
        "        \"city\": \"Franklin Square\",\n",
        "        \"street\": \"1011 Rosegold St\",\n",
        "        \"state\": \"NY\",\n",
        "        \"zip\": \"11010-2507\"\n",
        "      }\n",
        "    },\n",
        "    {\n",
        "      \"propertyAddress\": {\n",
        "        \"street\": \"25866 W Globe Ave\",\n",
        "        \"city\": \"Buckeye\",\n",
        "        \"state\": \"AZ\",\n",
        "        \"zip\": \"85326\"\n",
        "      }\n",
        "    }\n",
        "  ]\n",
        "}\n",
        "\n",
        "\n",
        "headers = {\n",
        "  'Content-Type': \"application/json\",\n",
        "  'Authorization': 'Bearer ' + bt\n",
        "}\n",
        "\n",
        "response = requests.post(url, headers=headers, json=json_data)\n",
        "response.text"
      ]
    },
    {
      "cell_type": "code",
      "execution_count": null,
      "metadata": {
        "colab": {
          "base_uri": "https://localhost:8080/"
        },
        "id": "7ed23hNgcEAQ",
        "outputId": "00c71523-da64-4652-fc9e-7c1e692d9d6b"
      },
      "outputs": [],
      "source": [
        "response.json()['results']"
      ]
    },
    {
      "cell_type": "code",
      "execution_count": null,
      "metadata": {
        "colab": {
          "base_uri": "https://localhost:8080/",
          "height": 215
        },
        "id": "DAHFqvD-cQB3",
        "outputId": "b39260dc-964c-4bee-cde3-2079c03a3cf0"
      },
      "outputs": [],
      "source": [
        "_df = pd.json_normalize(response.json()['results']['persons'])\n",
        "print('No of columns:', len(_df.columns))\n",
        "_df"
      ]
    },
    {
      "cell_type": "code",
      "execution_count": null,
      "metadata": {
        "colab": {
          "base_uri": "https://localhost:8080/",
          "height": 175
        },
        "id": "y-nM-n0ck3eQ",
        "outputId": "e6ccedb6-9bc6-4b25-be68-385edc603d11"
      },
      "outputs": [],
      "source": [
        "df_phone_num = pd.DataFrame(_df[\"phoneNumbers\"].iloc[0])\n",
        "df_phone_num"
      ]
    },
    {
      "cell_type": "code",
      "execution_count": null,
      "metadata": {
        "colab": {
          "base_uri": "https://localhost:8080/",
          "height": 112
        },
        "id": "LlAE8wmwlOtj",
        "outputId": "8fc54f6b-d7f3-4349-d33c-fa054fdee2f9"
      },
      "outputs": [],
      "source": [
        "# filter on valid phone numbers\n",
        "df_ph_valid = df_phone_num.loc[\n",
        "  (df_phone_num['reachable'] == True) & (df_phone_num['score'] >= 90)]\n",
        "# change phone numbers for testing purposes only\n",
        "df_ph_valid['number'] = [6027828692, 5633574823] # mock dnc phone numbers\n",
        "df_ph_valid['number'] = df_ph_valid['number'].astype(str)\n",
        "df_ph_valid"
      ]
    },
    {
      "cell_type": "code",
      "execution_count": null,
      "metadata": {
        "colab": {
          "base_uri": "https://localhost:8080/"
        },
        "id": "bSRcIg8Km-YN",
        "outputId": "09c707f2-e002-42fd-c09a-4a91b92bc290"
      },
      "outputs": [],
      "source": [
        "url = \"https://stoplight.io/mocks/batchdata/batchdata/20349728/phone/dnc\"\n",
        "\n",
        "json_data = {\n",
        "  'requests': df_ph_valid['number'].tolist(), # pass all valid numbers\n",
        "}\n",
        "\n",
        "headers = {\n",
        "  'Content-Type': \"application/json\",\n",
        "  'Authorization': 'Bearer ' + batchdata_mock_api_key\n",
        "}\n",
        "\n",
        "dnc_response = requests.post(url, headers=headers, json=json_data)\n",
        "dnc_response.json()"
      ]
    },
    {
      "cell_type": "code",
      "execution_count": null,
      "metadata": {
        "colab": {
          "base_uri": "https://localhost:8080/",
          "height": 143
        },
        "id": "qdHiV7qUnw0U",
        "outputId": "2c68b2b5-3063-4663-d943-ac908d3623af"
      },
      "outputs": [],
      "source": [
        "# transform JSON object to a DataFrame and select relevant columns\n",
        "df_dnc = pd.json_normalize(dnc_response.json()['results']['phoneNumbers'])[['number', 'dnc']]\n",
        "df_dnc"
      ]
    },
    {
      "cell_type": "code",
      "execution_count": null,
      "metadata": {
        "colab": {
          "base_uri": "https://localhost:8080/",
          "height": 112
        },
        "id": "UB5LR-yAofbd",
        "outputId": "ac2fb78a-8e05-457b-94cf-55b522c8089e"
      },
      "outputs": [],
      "source": [
        "# convert numbers to string type\n",
        "df_ph_valid['number'] = df_ph_valid['number'].astype(str)\n",
        "df_dnc['number'] = df_dnc['number'].astype(str)\n",
        "# merge valid and dnc tables\n",
        "df_ph_valid_dnc = pd.merge(df_ph_valid, df_dnc, how='left', on=['number'])\n",
        "df_ph_valid_dnc"
      ]
    },
    {
      "cell_type": "code",
      "execution_count": null,
      "metadata": {
        "colab": {
          "base_uri": "https://localhost:8080/",
          "height": 81
        },
        "id": "jPW0IgZBo_th",
        "outputId": "bf7b6efe-1d16-4c69-f8c2-f013a80827fc"
      },
      "outputs": [],
      "source": [
        "# filter on phone numbers that are NOT on DNC (Do Not Call) list\n",
        "df_ph_valid_dnc_fltr = df_ph_valid_dnc.loc[df_ph_valid_dnc['dnc'] == False]\n",
        "df_ph_valid_dnc_fltr"
      ]
    },
    {
      "cell_type": "code",
      "execution_count": null,
      "metadata": {
        "colab": {
          "base_uri": "https://localhost:8080/",
          "height": 197
        },
        "id": "G007Wx80sY3z",
        "outputId": "a8832afb-2de4-4e9c-872d-427a4c456a86"
      },
      "outputs": [],
      "source": [
        "# create copy of df\n",
        "df = _df.copy()\n",
        "\n",
        "# create phone numbers columns\n",
        "i = 1\n",
        "# itereate through list of valid numbers\n",
        "for num in df_ph_valid_dnc_fltr['number'].tolist():\n",
        "  df['phone' + str(i)] = [num] # create column\n",
        "\n",
        "# create email column\n",
        "df['emails'] = df.apply(lambda x: x['emails'][0], axis=1)\n",
        "df = pd.concat([df, df[\"emails\"].apply(pd.Series)], axis=1)\n",
        "df"
      ]
    },
    {
      "cell_type": "code",
      "execution_count": null,
      "metadata": {
        "colab": {
          "base_uri": "https://localhost:8080/",
          "height": 145
        },
        "id": "8BzWXtGkhv4v",
        "outputId": "1b8ff4a9-5c5a-46ca-f080-763946b76d49"
      },
      "outputs": [],
      "source": [
        "output_cols = ['name.first', 'name.last',\n",
        "       'propertyAddress.street', 'propertyAddress.city',\n",
        "       'propertyAddress.county', 'propertyAddress.state',\n",
        "       'propertyAddress.zip', 'property.equity',\n",
        "       'property.equityPercent', 'property.absenteeOwner', 'property.vacant',\n",
        "       'property.uspsDeliverable', 'phone1', 'email']\n",
        "\n",
        "df_output = df[output_cols]\n",
        "df_output"
      ]
    },
    {
      "cell_type": "markdown",
      "metadata": {
        "id": "PMNY-ZuveoAF"
      },
      "source": [
        "### <font color=\"green\">2) Multi Property - Skip Trace Search</font>"
      ]
    },
    {
      "cell_type": "code",
      "execution_count": null,
      "metadata": {
        "id": "IzkIx-ddenbs"
      },
      "outputs": [],
      "source": []
    },
    {
      "cell_type": "markdown",
      "metadata": {
        "id": "-_C66GQ9gp9Z"
      },
      "source": [
        "## <font color=\"blue\">Output</font>"
      ]
    },
    {
      "cell_type": "code",
      "execution_count": null,
      "metadata": {
        "colab": {
          "base_uri": "https://localhost:8080/",
          "height": 17
        },
        "id": "M1N4h4fevdeX",
        "outputId": "3b39c3f1-615f-46ac-b36f-70d55cd6717a"
      },
      "outputs": [],
      "source": [
        "# download file\n",
        "df_output.to_csv('output.csv', index=False)\n",
        "files.download('output.csv')"
      ]
    },
    {
      "cell_type": "markdown",
      "metadata": {
        "id": "_WrYHVh9Ukid"
      },
      "source": [
        "# End Notebook"
      ]
    }
  ],
  "metadata": {
    "colab": {
      "authorship_tag": "ABX9TyPERSOY6Dqkkx6BD50sKQqx",
      "include_colab_link": true,
      "name": "BatchData_SkipTracing_MockData.ipynb",
      "provenance": []
    },
    "kernelspec": {
      "display_name": "aiagent",
      "language": "python",
      "name": "python3"
    },
    "language_info": {
      "codemirror_mode": {
        "name": "ipython",
        "version": 3
      },
      "file_extension": ".py",
      "mimetype": "text/x-python",
      "name": "python",
      "nbconvert_exporter": "python",
      "pygments_lexer": "ipython3",
      "version": "3.13.3"
    }
  },
  "nbformat": 4,
  "nbformat_minor": 0
}
