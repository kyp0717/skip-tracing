{
 "cells": [
  {
   "cell_type": "code",
   "execution_count": 2,
   "id": "ce1fa357",
   "metadata": {},
   "outputs": [],
   "source": [
    "mock_server = \"https://stoplight.io/mocks/batchdata/batchdata/20349728\"\n",
    "real_server = \"https://api.batchdata.com/api/v1\""
   ]
  }
 ],
 "metadata": {
  "kernelspec": {
   "display_name": "skiptrace",
   "language": "python",
   "name": "python3"
  },
  "language_info": {
   "codemirror_mode": {
    "name": "ipython",
    "version": 3
   },
   "file_extension": ".py",
   "mimetype": "text/x-python",
   "name": "python",
   "nbconvert_exporter": "python",
   "pygments_lexer": "ipython3",
   "version": "3.13.5"
  }
 },
 "nbformat": 4,
 "nbformat_minor": 5
}
